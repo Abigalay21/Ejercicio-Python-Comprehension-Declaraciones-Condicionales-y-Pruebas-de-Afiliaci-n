{
 "cells": [
  {
   "cell_type": "markdown",
   "id": "2eab9bdb-7452-4b07-96bd-01a362328448",
   "metadata": {},
   "source": [
    "## Lista convertida en diccionario"
   ]
  },
  {
   "cell_type": "code",
   "execution_count": 10,
   "id": "b3f5866c-753e-49f2-ba3d-bef1957ab9c5",
   "metadata": {},
   "outputs": [
    {
     "name": "stdout",
     "output_type": "stream",
     "text": [
      "Lista de Reproducción\n",
      "\n",
      "Ingresa la palabra que te gustaría\n",
      "Ejemplo: 'rock', y obtendrás un playlist de canciones o artistas que incluyan la palabra rock\n"
     ]
    },
    {
     "name": "stdin",
     "output_type": "stream",
     "text": [
      " rock\n"
     ]
    },
    {
     "name": "stdout",
     "output_type": "stream",
     "text": [
      "Lista de Reproducción:\n",
      "Artista: DJ RUMY - Canción: Rock Band\n",
      "Artista: Post Malone - Canción: rockstar\n",
      "Artista: Junior H - Canción: ROCKSTAR\n",
      "Artista: Elton John - Canción: Rocket Man (I Think It's Going To Be A Long, Long Time)\n",
      "Artista: Brenda Lee - Canción: Rockin' Around The Christmas Tree\n",
      "Artista: Nickelback - Canción: Rockstar\n",
      "Artista: DaBaby - Canción: ROCKSTAR\n",
      "Artista: Rockwell - Canción: Somebody's Watching Me\n",
      "Artista: Justin Timberlake - Canción: Rock Your Body\n",
      "Artista: Kiss - Canción: Rock And Roll All Nite\n",
      "Artista: Michael Jackson - Canción: Rock with You (Single Version)\n",
      "Artista: Scorpions - Canción: Rock You Like a Hurricane (2015 - Remaster)\n",
      "Artista: The Clash - Canción: Rock the Casbah (Remastered)\n",
      "Artista: Stepz - Canción: Rock\n",
      "Artista: R3HAB - Canción: Rock My Body\n",
      "Artista: Aaliyah - Canción: Rock The Boat\n",
      "Artista: Michael Jackson - Canción: Rock with You (Single Version)\n",
      "Artista: Rockwell - Canción: Somebody's Watching Me (Single Version)\n",
      "Artista: Rocko - Canción: U.O.E.N.O. (feat. Future, Rick Ross)\n",
      "Artista: Clean Bandit - Canción: Rockabye (feat. Sean Paul & Anne-Marie)\n",
      "Artista: Scorpions - Canción: Rock You Like a Hurricane (2011)\n",
      "Artista: blink-182 - Canción: The Rock Show\n",
      "Artista: Cypress Hill - Canción: (Rock) Superstar (feat. Chino Moreno & Everlast)\n",
      "Artista: Tyler Marshall - Canción: Rocking Chair\n",
      "Artista: Ashanti - Canción: Rock Wit U (Awww Baby)\n"
     ]
    }
   ],
   "source": [
    "import requests\n",
    "print(\"Lista de Reproducción\\n\") \n",
    "# Referencia: https://www.deezer.com/en/channels/explore \n",
    "print(\"Ingresa la palabra que te gustaría\") \n",
    "print(\"Ejemplo: 'rock', y obtendrás un playlist de canciones o artistas que incluyan la palabra rock\") \n",
    "word_to_search = input() \n",
    "url = \"https://deezerdevs-deezer.p.rapidapi.com/search\" \n",
    "querystring = {\"q\":word_to_search} \n",
    "headers = {    \"X-RapidAPI-Key\": \"3ed98f551fmshe4e6260228c4eadp13db17jsn8c893e1194da\",    \n",
    "               \"X-RapidAPI-Host\": \"deezerdevs-deezer.p.rapidapi.com\" } \n",
    "response = requests.request(\"GET\", url, headers=headers, params=querystring).json() \n",
    "my_list = [] \n",
    "for element in response['data']:   \n",
    "    my_list.append({\"artista\": element['artist']['name'], \"canción\": element['title']}) \n",
    "print(\"Lista de Reproducción:\") \n",
    "for diccionario in my_list:\n",
    "    print(f\"Artista: {diccionario['artista']} - Canción: {diccionario['canción']}\")\n",
    "    "
   ]
  },
  {
   "cell_type": "code",
   "execution_count": null,
   "id": "000dfe47-2c5e-457a-a0c5-6be59143f3cc",
   "metadata": {},
   "outputs": [],
   "source": []
  }
 ],
 "metadata": {
  "kernelspec": {
   "display_name": "Python 3 (ipykernel)",
   "language": "python",
   "name": "python3"
  },
  "language_info": {
   "codemirror_mode": {
    "name": "ipython",
    "version": 3
   },
   "file_extension": ".py",
   "mimetype": "text/x-python",
   "name": "python",
   "nbconvert_exporter": "python",
   "pygments_lexer": "ipython3",
   "version": "3.12.5"
  }
 },
 "nbformat": 4,
 "nbformat_minor": 5
}
